{
 "cells": [
  {
   "cell_type": "markdown",
   "id": "86d77f6c",
   "metadata": {
    "papermill": {
     "duration": 0.012025,
     "end_time": "2022-12-05T12:41:48.388004",
     "exception": false,
     "start_time": "2022-12-05T12:41:48.375979",
     "status": "completed"
    },
    "tags": []
   },
   "source": [
    "# Some LB probing results to share\n",
    "In this notebook, I tested some basic assumptions about test dataset.\n",
    "I demonstrated that following assumptions are all TRUE.\n",
    "* There are no new site ID in test dataset.\n",
    "* Patient IDs in train and test sets do not overlap\n",
    "* Image IDs in train and test sets do not overlap\n",
    "* There are no new laterality values in test dataset.\n",
    "* There are new machine IDs in test dataset. (This is already raised by patriot in [here](https://www.kaggle.com/competitions/rsna-breast-cancer-detection/discussion/369362))\n",
    "* There are no new view values in test dataset.\n",
    "* No of images/patient are all >= 4\n",
    "* Site ID is always the same for each patient.\n",
    "* Age is always the same for each patient.\n",
    "* There are no overlap of machine IDs between two sites in test dataset.\n",
    "* Some patients underwent mammography with multiple machines.\n",
    "* No. of images in site ID 1 > No. of images in site ID 2. (by @yujiariyasu)\n",
    "* All patients have CC and MLO images for both sides\n",
    "* More than 40% of images are from machine ID 49 (43% for train dataset) (by @kaggleqrdl)\n",
    "* Mean age of patients is between 56-61 (58.6 for train set), and patients in site 1 are younger than those in site 2. (by @kaggleqrdl)\n",
    "* 1-2% of patients use implants (1.4% for train set).(by @kaggleqrdl)\n",
    "\n",
    "I am happy if anyone correct me if I am wrong.\n",
    "I am also very happy if anyone share us other assumtions/hypothesis about test dataset."
   ]
  },
  {
   "cell_type": "code",
   "execution_count": 1,
   "id": "243cbf2d",
   "metadata": {
    "execution": {
     "iopub.execute_input": "2022-12-05T12:41:48.410704Z",
     "iopub.status.busy": "2022-12-05T12:41:48.410191Z",
     "iopub.status.idle": "2022-12-05T12:41:48.421112Z",
     "shell.execute_reply": "2022-12-05T12:41:48.420037Z"
    },
    "papermill": {
     "duration": 0.025537,
     "end_time": "2022-12-05T12:41:48.424003",
     "exception": false,
     "start_time": "2022-12-05T12:41:48.398466",
     "status": "completed"
    },
    "tags": []
   },
   "outputs": [],
   "source": [
    "import pandas as pd\n",
    "import numpy as np"
   ]
  },
  {
   "cell_type": "code",
   "execution_count": 2,
   "id": "1d8ba02d",
   "metadata": {
    "execution": {
     "iopub.execute_input": "2022-12-05T12:41:48.445283Z",
     "iopub.status.busy": "2022-12-05T12:41:48.444778Z",
     "iopub.status.idle": "2022-12-05T12:41:48.656768Z",
     "shell.execute_reply": "2022-12-05T12:41:48.655104Z"
    },
    "papermill": {
     "duration": 0.227007,
     "end_time": "2022-12-05T12:41:48.660660",
     "exception": false,
     "start_time": "2022-12-05T12:41:48.433653",
     "status": "completed"
    },
    "tags": []
   },
   "outputs": [
    {
     "name": "stdout",
     "output_type": "stream",
     "text": [
      "train shape: (54706, 14)\n",
      "test shape: (4, 9)\n",
      "sub_df shape: (2, 2)\n"
     ]
    },
    {
     "data": {
      "text/html": [
       "<div>\n",
       "<style scoped>\n",
       "    .dataframe tbody tr th:only-of-type {\n",
       "        vertical-align: middle;\n",
       "    }\n",
       "\n",
       "    .dataframe tbody tr th {\n",
       "        vertical-align: top;\n",
       "    }\n",
       "\n",
       "    .dataframe thead th {\n",
       "        text-align: right;\n",
       "    }\n",
       "</style>\n",
       "<table border=\"1\" class=\"dataframe\">\n",
       "  <thead>\n",
       "    <tr style=\"text-align: right;\">\n",
       "      <th></th>\n",
       "      <th>site_id</th>\n",
       "      <th>patient_id</th>\n",
       "      <th>image_id</th>\n",
       "      <th>laterality</th>\n",
       "      <th>view</th>\n",
       "      <th>age</th>\n",
       "      <th>cancer</th>\n",
       "      <th>biopsy</th>\n",
       "      <th>invasive</th>\n",
       "      <th>BIRADS</th>\n",
       "      <th>implant</th>\n",
       "      <th>density</th>\n",
       "      <th>machine_id</th>\n",
       "      <th>difficult_negative_case</th>\n",
       "    </tr>\n",
       "  </thead>\n",
       "  <tbody>\n",
       "    <tr>\n",
       "      <th>0</th>\n",
       "      <td>2</td>\n",
       "      <td>10006</td>\n",
       "      <td>462822612</td>\n",
       "      <td>L</td>\n",
       "      <td>CC</td>\n",
       "      <td>61.0</td>\n",
       "      <td>0</td>\n",
       "      <td>0</td>\n",
       "      <td>0</td>\n",
       "      <td>NaN</td>\n",
       "      <td>0</td>\n",
       "      <td>NaN</td>\n",
       "      <td>29</td>\n",
       "      <td>False</td>\n",
       "    </tr>\n",
       "    <tr>\n",
       "      <th>1</th>\n",
       "      <td>2</td>\n",
       "      <td>10006</td>\n",
       "      <td>1459541791</td>\n",
       "      <td>L</td>\n",
       "      <td>MLO</td>\n",
       "      <td>61.0</td>\n",
       "      <td>0</td>\n",
       "      <td>0</td>\n",
       "      <td>0</td>\n",
       "      <td>NaN</td>\n",
       "      <td>0</td>\n",
       "      <td>NaN</td>\n",
       "      <td>29</td>\n",
       "      <td>False</td>\n",
       "    </tr>\n",
       "    <tr>\n",
       "      <th>2</th>\n",
       "      <td>2</td>\n",
       "      <td>10006</td>\n",
       "      <td>1864590858</td>\n",
       "      <td>R</td>\n",
       "      <td>MLO</td>\n",
       "      <td>61.0</td>\n",
       "      <td>0</td>\n",
       "      <td>0</td>\n",
       "      <td>0</td>\n",
       "      <td>NaN</td>\n",
       "      <td>0</td>\n",
       "      <td>NaN</td>\n",
       "      <td>29</td>\n",
       "      <td>False</td>\n",
       "    </tr>\n",
       "    <tr>\n",
       "      <th>3</th>\n",
       "      <td>2</td>\n",
       "      <td>10006</td>\n",
       "      <td>1874946579</td>\n",
       "      <td>R</td>\n",
       "      <td>CC</td>\n",
       "      <td>61.0</td>\n",
       "      <td>0</td>\n",
       "      <td>0</td>\n",
       "      <td>0</td>\n",
       "      <td>NaN</td>\n",
       "      <td>0</td>\n",
       "      <td>NaN</td>\n",
       "      <td>29</td>\n",
       "      <td>False</td>\n",
       "    </tr>\n",
       "    <tr>\n",
       "      <th>4</th>\n",
       "      <td>2</td>\n",
       "      <td>10011</td>\n",
       "      <td>220375232</td>\n",
       "      <td>L</td>\n",
       "      <td>CC</td>\n",
       "      <td>55.0</td>\n",
       "      <td>0</td>\n",
       "      <td>0</td>\n",
       "      <td>0</td>\n",
       "      <td>0.0</td>\n",
       "      <td>0</td>\n",
       "      <td>NaN</td>\n",
       "      <td>21</td>\n",
       "      <td>True</td>\n",
       "    </tr>\n",
       "  </tbody>\n",
       "</table>\n",
       "</div>"
      ],
      "text/plain": [
       "   site_id  patient_id    image_id laterality view   age  cancer  biopsy  \\\n",
       "0        2       10006   462822612          L   CC  61.0       0       0   \n",
       "1        2       10006  1459541791          L  MLO  61.0       0       0   \n",
       "2        2       10006  1864590858          R  MLO  61.0       0       0   \n",
       "3        2       10006  1874946579          R   CC  61.0       0       0   \n",
       "4        2       10011   220375232          L   CC  55.0       0       0   \n",
       "\n",
       "   invasive  BIRADS  implant density  machine_id  difficult_negative_case  \n",
       "0         0     NaN        0     NaN          29                    False  \n",
       "1         0     NaN        0     NaN          29                    False  \n",
       "2         0     NaN        0     NaN          29                    False  \n",
       "3         0     NaN        0     NaN          29                    False  \n",
       "4         0     0.0        0     NaN          21                     True  "
      ]
     },
     "metadata": {},
     "output_type": "display_data"
    },
    {
     "data": {
      "text/html": [
       "<div>\n",
       "<style scoped>\n",
       "    .dataframe tbody tr th:only-of-type {\n",
       "        vertical-align: middle;\n",
       "    }\n",
       "\n",
       "    .dataframe tbody tr th {\n",
       "        vertical-align: top;\n",
       "    }\n",
       "\n",
       "    .dataframe thead th {\n",
       "        text-align: right;\n",
       "    }\n",
       "</style>\n",
       "<table border=\"1\" class=\"dataframe\">\n",
       "  <thead>\n",
       "    <tr style=\"text-align: right;\">\n",
       "      <th></th>\n",
       "      <th>site_id</th>\n",
       "      <th>patient_id</th>\n",
       "      <th>image_id</th>\n",
       "      <th>laterality</th>\n",
       "      <th>view</th>\n",
       "      <th>age</th>\n",
       "      <th>implant</th>\n",
       "      <th>machine_id</th>\n",
       "      <th>prediction_id</th>\n",
       "    </tr>\n",
       "  </thead>\n",
       "  <tbody>\n",
       "    <tr>\n",
       "      <th>0</th>\n",
       "      <td>2</td>\n",
       "      <td>10008</td>\n",
       "      <td>736471439</td>\n",
       "      <td>L</td>\n",
       "      <td>MLO</td>\n",
       "      <td>81</td>\n",
       "      <td>0</td>\n",
       "      <td>21</td>\n",
       "      <td>10008_L</td>\n",
       "    </tr>\n",
       "    <tr>\n",
       "      <th>1</th>\n",
       "      <td>2</td>\n",
       "      <td>10008</td>\n",
       "      <td>1591370361</td>\n",
       "      <td>L</td>\n",
       "      <td>CC</td>\n",
       "      <td>81</td>\n",
       "      <td>0</td>\n",
       "      <td>21</td>\n",
       "      <td>10008_L</td>\n",
       "    </tr>\n",
       "    <tr>\n",
       "      <th>2</th>\n",
       "      <td>2</td>\n",
       "      <td>10008</td>\n",
       "      <td>68070693</td>\n",
       "      <td>R</td>\n",
       "      <td>MLO</td>\n",
       "      <td>81</td>\n",
       "      <td>0</td>\n",
       "      <td>21</td>\n",
       "      <td>10008_R</td>\n",
       "    </tr>\n",
       "    <tr>\n",
       "      <th>3</th>\n",
       "      <td>2</td>\n",
       "      <td>10008</td>\n",
       "      <td>361203119</td>\n",
       "      <td>R</td>\n",
       "      <td>CC</td>\n",
       "      <td>81</td>\n",
       "      <td>0</td>\n",
       "      <td>21</td>\n",
       "      <td>10008_R</td>\n",
       "    </tr>\n",
       "  </tbody>\n",
       "</table>\n",
       "</div>"
      ],
      "text/plain": [
       "   site_id  patient_id    image_id laterality view  age  implant  machine_id  \\\n",
       "0        2       10008   736471439          L  MLO   81        0          21   \n",
       "1        2       10008  1591370361          L   CC   81        0          21   \n",
       "2        2       10008    68070693          R  MLO   81        0          21   \n",
       "3        2       10008   361203119          R   CC   81        0          21   \n",
       "\n",
       "  prediction_id  \n",
       "0       10008_L  \n",
       "1       10008_L  \n",
       "2       10008_R  \n",
       "3       10008_R  "
      ]
     },
     "metadata": {},
     "output_type": "display_data"
    },
    {
     "data": {
      "text/html": [
       "<div>\n",
       "<style scoped>\n",
       "    .dataframe tbody tr th:only-of-type {\n",
       "        vertical-align: middle;\n",
       "    }\n",
       "\n",
       "    .dataframe tbody tr th {\n",
       "        vertical-align: top;\n",
       "    }\n",
       "\n",
       "    .dataframe thead th {\n",
       "        text-align: right;\n",
       "    }\n",
       "</style>\n",
       "<table border=\"1\" class=\"dataframe\">\n",
       "  <thead>\n",
       "    <tr style=\"text-align: right;\">\n",
       "      <th></th>\n",
       "      <th>prediction_id</th>\n",
       "      <th>cancer</th>\n",
       "    </tr>\n",
       "  </thead>\n",
       "  <tbody>\n",
       "    <tr>\n",
       "      <th>0</th>\n",
       "      <td>10008_L</td>\n",
       "      <td>0.021168</td>\n",
       "    </tr>\n",
       "    <tr>\n",
       "      <th>1</th>\n",
       "      <td>10008_R</td>\n",
       "      <td>0.021168</td>\n",
       "    </tr>\n",
       "  </tbody>\n",
       "</table>\n",
       "</div>"
      ],
      "text/plain": [
       "  prediction_id    cancer\n",
       "0       10008_L  0.021168\n",
       "1       10008_R  0.021168"
      ]
     },
     "metadata": {},
     "output_type": "display_data"
    }
   ],
   "source": [
    "train_df = pd.read_csv(\"/kaggle/input/rsna-breast-cancer-detection/train.csv\")\n",
    "test_df = pd.read_csv(\"/kaggle/input/rsna-breast-cancer-detection/test.csv\")\n",
    "sub_df = pd.read_csv(\"/kaggle/input/rsna-breast-cancer-detection/sample_submission.csv\")\n",
    "\n",
    "print(\"train shape:\", train_df.shape)\n",
    "print(\"test shape:\", test_df.shape)\n",
    "print(\"sub_df shape:\", sub_df.shape)\n",
    "display(train_df.head())\n",
    "display(test_df.head())\n",
    "display(sub_df.head())"
   ]
  },
  {
   "cell_type": "code",
   "execution_count": 3,
   "id": "458201a7",
   "metadata": {
    "execution": {
     "iopub.execute_input": "2022-12-05T12:41:48.688763Z",
     "iopub.status.busy": "2022-12-05T12:41:48.687802Z",
     "iopub.status.idle": "2022-12-05T12:41:48.698155Z",
     "shell.execute_reply": "2022-12-05T12:41:48.696657Z"
    },
    "papermill": {
     "duration": 0.028534,
     "end_time": "2022-12-05T12:41:48.701015",
     "exception": false,
     "start_time": "2022-12-05T12:41:48.672481",
     "status": "completed"
    },
    "tags": []
   },
   "outputs": [],
   "source": [
    "def get_num_unique(train_df, test_df, col):\n",
    "    all_df = pd.concat([train_df, test_df])\n",
    "    num_unique_train = len(train_df[col].unique())\n",
    "    num_unique_test = len(test_df[col].unique())\n",
    "    num_unique_all = len(all_df[col].unique())\n",
    "    return num_unique_train, num_unique_test, num_unique_all\n",
    "\n",
    "def add_count(df, col):\n",
    "    if type(col) == str:\n",
    "        aggs = df.groupby(col, as_index=True)[col].count().rename(col + \"_count\")\n",
    "    else:\n",
    "        aggs = (\n",
    "            df.groupby(col, as_index=False)[col[0]]\n",
    "            .count()\n",
    "            .rename(\"_\".join(col) + \"_count\")\n",
    "        )\n",
    "    df = df.merge(aggs, on=col, how=\"inner\")\n",
    "    return df"
   ]
  },
  {
   "cell_type": "code",
   "execution_count": 4,
   "id": "b7324651",
   "metadata": {
    "execution": {
     "iopub.execute_input": "2022-12-05T12:41:48.724712Z",
     "iopub.status.busy": "2022-12-05T12:41:48.723935Z",
     "iopub.status.idle": "2022-12-05T12:41:48.728979Z",
     "shell.execute_reply": "2022-12-05T12:41:48.727708Z"
    },
    "papermill": {
     "duration": 0.019888,
     "end_time": "2022-12-05T12:41:48.731526",
     "exception": false,
     "start_time": "2022-12-05T12:41:48.711638",
     "status": "completed"
    },
    "tags": []
   },
   "outputs": [],
   "source": [
    "hypotheses = []"
   ]
  },
  {
   "cell_type": "markdown",
   "id": "054ce22a",
   "metadata": {
    "papermill": {
     "duration": 0.010415,
     "end_time": "2022-12-05T12:41:48.752948",
     "exception": false,
     "start_time": "2022-12-05T12:41:48.742533",
     "status": "completed"
    },
    "tags": []
   },
   "source": [
    "# There are no new site ID in test dataset."
   ]
  },
  {
   "cell_type": "code",
   "execution_count": 5,
   "id": "bff590f7",
   "metadata": {
    "execution": {
     "iopub.execute_input": "2022-12-05T12:41:48.776912Z",
     "iopub.status.busy": "2022-12-05T12:41:48.776094Z",
     "iopub.status.idle": "2022-12-05T12:41:48.813524Z",
     "shell.execute_reply": "2022-12-05T12:41:48.812024Z"
    },
    "papermill": {
     "duration": 0.052555,
     "end_time": "2022-12-05T12:41:48.816259",
     "exception": false,
     "start_time": "2022-12-05T12:41:48.763704",
     "status": "completed"
    },
    "tags": []
   },
   "outputs": [
    {
     "name": "stdout",
     "output_type": "stream",
     "text": [
      "num_unique_train: 2\n",
      "num_unique_test: 1\n",
      "num_unique_all: 2\n",
      "hyposthesis: True\n"
     ]
    }
   ],
   "source": [
    "num_unique_train, num_unique_test, num_unique_all = get_num_unique(train_df, test_df, 'site_id')\n",
    "print(f'num_unique_train: {num_unique_train}')\n",
    "print(f'num_unique_test: {num_unique_test}')\n",
    "print(f'num_unique_all: {num_unique_all}')\n",
    "hypothesis = (num_unique_all == 2)\n",
    "print(f'hyposthesis: {hypothesis}')\n",
    "hypotheses.append(hypothesis)"
   ]
  },
  {
   "cell_type": "markdown",
   "id": "3012e388",
   "metadata": {
    "papermill": {
     "duration": 0.010891,
     "end_time": "2022-12-05T12:41:48.839132",
     "exception": false,
     "start_time": "2022-12-05T12:41:48.828241",
     "status": "completed"
    },
    "tags": []
   },
   "source": [
    "# Patient IDs in train and test sets do not overlap"
   ]
  },
  {
   "cell_type": "code",
   "execution_count": 6,
   "id": "e10d2acd",
   "metadata": {
    "execution": {
     "iopub.execute_input": "2022-12-05T12:41:48.862953Z",
     "iopub.status.busy": "2022-12-05T12:41:48.861911Z",
     "iopub.status.idle": "2022-12-05T12:41:48.884223Z",
     "shell.execute_reply": "2022-12-05T12:41:48.882280Z"
    },
    "papermill": {
     "duration": 0.037589,
     "end_time": "2022-12-05T12:41:48.887426",
     "exception": false,
     "start_time": "2022-12-05T12:41:48.849837",
     "status": "completed"
    },
    "tags": []
   },
   "outputs": [
    {
     "name": "stdout",
     "output_type": "stream",
     "text": [
      "num_unique_train: 11913\n",
      "num_unique_test: 1\n",
      "num_unique_all: 11914\n",
      "hyposthesis: True\n"
     ]
    }
   ],
   "source": [
    "num_unique_train, num_unique_test, num_unique_all = get_num_unique(train_df, test_df, 'patient_id')\n",
    "print(f'num_unique_train: {num_unique_train}')\n",
    "print(f'num_unique_test: {num_unique_test}')\n",
    "print(f'num_unique_all: {num_unique_all}')\n",
    "hypothesis = (num_unique_train + num_unique_test == num_unique_all)\n",
    "print(f'hyposthesis: {hypothesis}')\n",
    "hypotheses.append(hypothesis)"
   ]
  },
  {
   "cell_type": "markdown",
   "id": "46f8a886",
   "metadata": {
    "papermill": {
     "duration": 0.010584,
     "end_time": "2022-12-05T12:41:48.909419",
     "exception": false,
     "start_time": "2022-12-05T12:41:48.898835",
     "status": "completed"
    },
    "tags": []
   },
   "source": [
    "# Image IDs in train and test sets do not overlap"
   ]
  },
  {
   "cell_type": "code",
   "execution_count": 7,
   "id": "bce24d18",
   "metadata": {
    "execution": {
     "iopub.execute_input": "2022-12-05T12:41:48.933679Z",
     "iopub.status.busy": "2022-12-05T12:41:48.932914Z",
     "iopub.status.idle": "2022-12-05T12:41:48.956737Z",
     "shell.execute_reply": "2022-12-05T12:41:48.955058Z"
    },
    "papermill": {
     "duration": 0.039355,
     "end_time": "2022-12-05T12:41:48.959735",
     "exception": false,
     "start_time": "2022-12-05T12:41:48.920380",
     "status": "completed"
    },
    "tags": []
   },
   "outputs": [
    {
     "name": "stdout",
     "output_type": "stream",
     "text": [
      "num_unique_train: 54706\n",
      "num_unique_test: 4\n",
      "num_unique_all: 54710\n",
      "hyposthesis: True\n"
     ]
    }
   ],
   "source": [
    "num_unique_train, num_unique_test, num_unique_all = get_num_unique(train_df, test_df, 'image_id')\n",
    "print(f'num_unique_train: {num_unique_train}')\n",
    "print(f'num_unique_test: {num_unique_test}')\n",
    "print(f'num_unique_all: {num_unique_all}')\n",
    "hypothesis = (num_unique_train + num_unique_test == num_unique_all)\n",
    "print(f'hyposthesis: {hypothesis}')\n",
    "hypotheses.append(hypothesis)"
   ]
  },
  {
   "cell_type": "markdown",
   "id": "78d7ef52",
   "metadata": {
    "papermill": {
     "duration": 0.009937,
     "end_time": "2022-12-05T12:41:48.980120",
     "exception": false,
     "start_time": "2022-12-05T12:41:48.970183",
     "status": "completed"
    },
    "tags": []
   },
   "source": [
    "# There are no new laterality values in test dataset."
   ]
  },
  {
   "cell_type": "code",
   "execution_count": 8,
   "id": "a2062e6f",
   "metadata": {
    "execution": {
     "iopub.execute_input": "2022-12-05T12:41:49.002889Z",
     "iopub.status.busy": "2022-12-05T12:41:49.002437Z",
     "iopub.status.idle": "2022-12-05T12:41:49.030081Z",
     "shell.execute_reply": "2022-12-05T12:41:49.028525Z"
    },
    "papermill": {
     "duration": 0.043132,
     "end_time": "2022-12-05T12:41:49.033690",
     "exception": false,
     "start_time": "2022-12-05T12:41:48.990558",
     "status": "completed"
    },
    "tags": []
   },
   "outputs": [
    {
     "name": "stdout",
     "output_type": "stream",
     "text": [
      "num_unique_train: 2\n",
      "num_unique_test: 2\n",
      "num_unique_all: 2\n",
      "hyposthesis: True\n"
     ]
    }
   ],
   "source": [
    "num_unique_train, num_unique_test, num_unique_all = get_num_unique(train_df, test_df, 'laterality')\n",
    "print(f'num_unique_train: {num_unique_train}')\n",
    "print(f'num_unique_test: {num_unique_test}')\n",
    "print(f'num_unique_all: {num_unique_all}')\n",
    "hypothesis = (num_unique_test == 2)\n",
    "print(f'hyposthesis: {hypothesis}')\n",
    "hypotheses.append(hypothesis)"
   ]
  },
  {
   "cell_type": "markdown",
   "id": "611f71ef",
   "metadata": {
    "papermill": {
     "duration": 0.009868,
     "end_time": "2022-12-05T12:41:49.054451",
     "exception": false,
     "start_time": "2022-12-05T12:41:49.044583",
     "status": "completed"
    },
    "tags": []
   },
   "source": [
    "# There are new machine IDs in test dataset."
   ]
  },
  {
   "cell_type": "code",
   "execution_count": 9,
   "id": "46c030cc",
   "metadata": {
    "execution": {
     "iopub.execute_input": "2022-12-05T12:41:49.077191Z",
     "iopub.status.busy": "2022-12-05T12:41:49.076460Z",
     "iopub.status.idle": "2022-12-05T12:41:49.097448Z",
     "shell.execute_reply": "2022-12-05T12:41:49.096467Z"
    },
    "papermill": {
     "duration": 0.036184,
     "end_time": "2022-12-05T12:41:49.100739",
     "exception": false,
     "start_time": "2022-12-05T12:41:49.064555",
     "status": "completed"
    },
    "tags": []
   },
   "outputs": [
    {
     "name": "stdout",
     "output_type": "stream",
     "text": [
      "num_unique_train: 10\n",
      "num_unique_test: 1\n",
      "num_unique_all: 10\n",
      "hyposthesis: False\n"
     ]
    }
   ],
   "source": [
    "num_unique_train, num_unique_test, num_unique_all = get_num_unique(train_df, test_df, 'machine_id')\n",
    "print(f'num_unique_train: {num_unique_train}')\n",
    "print(f'num_unique_test: {num_unique_test}')\n",
    "print(f'num_unique_all: {num_unique_all}')\n",
    "hypothesis = (num_unique_train != num_unique_all)\n",
    "print(f'hyposthesis: {hypothesis}')\n",
    "hypotheses.append(hypothesis)"
   ]
  },
  {
   "cell_type": "markdown",
   "id": "4e490875",
   "metadata": {
    "papermill": {
     "duration": 0.011996,
     "end_time": "2022-12-05T12:41:49.123810",
     "exception": false,
     "start_time": "2022-12-05T12:41:49.111814",
     "status": "completed"
    },
    "tags": []
   },
   "source": [
    "# There are no new view values in test dataset."
   ]
  },
  {
   "cell_type": "code",
   "execution_count": 10,
   "id": "a225511d",
   "metadata": {
    "execution": {
     "iopub.execute_input": "2022-12-05T12:41:49.156004Z",
     "iopub.status.busy": "2022-12-05T12:41:49.154487Z",
     "iopub.status.idle": "2022-12-05T12:41:49.189041Z",
     "shell.execute_reply": "2022-12-05T12:41:49.187300Z"
    },
    "papermill": {
     "duration": 0.055578,
     "end_time": "2022-12-05T12:41:49.193290",
     "exception": false,
     "start_time": "2022-12-05T12:41:49.137712",
     "status": "completed"
    },
    "tags": []
   },
   "outputs": [
    {
     "name": "stdout",
     "output_type": "stream",
     "text": [
      "num_unique_train: 6\n",
      "num_unique_test: 2\n",
      "num_unique_all: 6\n",
      "hyposthesis: True\n"
     ]
    }
   ],
   "source": [
    "num_unique_train, num_unique_test, num_unique_all = get_num_unique(train_df, test_df, 'view')\n",
    "print(f'num_unique_train: {num_unique_train}')\n",
    "print(f'num_unique_test: {num_unique_test}')\n",
    "print(f'num_unique_all: {num_unique_all}')\n",
    "hypothesis = (num_unique_all == 6)\n",
    "print(f'hyposthesis: {hypothesis}')\n",
    "hypotheses.append(hypothesis)"
   ]
  },
  {
   "cell_type": "markdown",
   "id": "0e9dd1ae",
   "metadata": {
    "papermill": {
     "duration": 0.010319,
     "end_time": "2022-12-05T12:41:49.215402",
     "exception": false,
     "start_time": "2022-12-05T12:41:49.205083",
     "status": "completed"
    },
    "tags": []
   },
   "source": [
    "# No of images/patient are all >= 4."
   ]
  },
  {
   "cell_type": "code",
   "execution_count": 11,
   "id": "22623cfe",
   "metadata": {
    "execution": {
     "iopub.execute_input": "2022-12-05T12:41:49.240242Z",
     "iopub.status.busy": "2022-12-05T12:41:49.238907Z",
     "iopub.status.idle": "2022-12-05T12:41:49.267045Z",
     "shell.execute_reply": "2022-12-05T12:41:49.266038Z"
    },
    "papermill": {
     "duration": 0.043046,
     "end_time": "2022-12-05T12:41:49.269944",
     "exception": false,
     "start_time": "2022-12-05T12:41:49.226898",
     "status": "completed"
    },
    "tags": []
   },
   "outputs": [
    {
     "data": {
      "text/html": [
       "<div>\n",
       "<style scoped>\n",
       "    .dataframe tbody tr th:only-of-type {\n",
       "        vertical-align: middle;\n",
       "    }\n",
       "\n",
       "    .dataframe tbody tr th {\n",
       "        vertical-align: top;\n",
       "    }\n",
       "\n",
       "    .dataframe thead th {\n",
       "        text-align: right;\n",
       "    }\n",
       "</style>\n",
       "<table border=\"1\" class=\"dataframe\">\n",
       "  <thead>\n",
       "    <tr style=\"text-align: right;\">\n",
       "      <th></th>\n",
       "      <th>site_id</th>\n",
       "      <th>patient_id</th>\n",
       "      <th>image_id</th>\n",
       "      <th>laterality</th>\n",
       "      <th>view</th>\n",
       "      <th>age</th>\n",
       "      <th>implant</th>\n",
       "      <th>machine_id</th>\n",
       "      <th>prediction_id</th>\n",
       "      <th>patient_id_count</th>\n",
       "    </tr>\n",
       "  </thead>\n",
       "  <tbody>\n",
       "    <tr>\n",
       "      <th>0</th>\n",
       "      <td>2</td>\n",
       "      <td>10008</td>\n",
       "      <td>736471439</td>\n",
       "      <td>L</td>\n",
       "      <td>MLO</td>\n",
       "      <td>81</td>\n",
       "      <td>0</td>\n",
       "      <td>21</td>\n",
       "      <td>10008_L</td>\n",
       "      <td>4</td>\n",
       "    </tr>\n",
       "  </tbody>\n",
       "</table>\n",
       "</div>"
      ],
      "text/plain": [
       "   site_id  patient_id   image_id laterality view  age  implant  machine_id  \\\n",
       "0        2       10008  736471439          L  MLO   81        0          21   \n",
       "\n",
       "  prediction_id  patient_id_count  \n",
       "0       10008_L                 4  "
      ]
     },
     "metadata": {},
     "output_type": "display_data"
    },
    {
     "name": "stdout",
     "output_type": "stream",
     "text": [
      "hyposthesis: True\n"
     ]
    }
   ],
   "source": [
    "temp_df = add_count(test_df, 'patient_id').drop_duplicates('patient_id')\n",
    "display(temp_df.head())\n",
    "hypothesis = (temp_df.patient_id_count.min() >= 4)\n",
    "print(f'hyposthesis: {hypothesis}')\n",
    "hypotheses.append(hypothesis)"
   ]
  },
  {
   "cell_type": "markdown",
   "id": "88a1008b",
   "metadata": {
    "papermill": {
     "duration": 0.010395,
     "end_time": "2022-12-05T12:41:49.291464",
     "exception": false,
     "start_time": "2022-12-05T12:41:49.281069",
     "status": "completed"
    },
    "tags": []
   },
   "source": [
    "# Site ID is always the same for each patient."
   ]
  },
  {
   "cell_type": "code",
   "execution_count": 12,
   "id": "2a9c2720",
   "metadata": {
    "execution": {
     "iopub.execute_input": "2022-12-05T12:41:49.316677Z",
     "iopub.status.busy": "2022-12-05T12:41:49.315321Z",
     "iopub.status.idle": "2022-12-05T12:41:49.325527Z",
     "shell.execute_reply": "2022-12-05T12:41:49.324511Z"
    },
    "papermill": {
     "duration": 0.025888,
     "end_time": "2022-12-05T12:41:49.328615",
     "exception": false,
     "start_time": "2022-12-05T12:41:49.302727",
     "status": "completed"
    },
    "tags": []
   },
   "outputs": [
    {
     "name": "stdout",
     "output_type": "stream",
     "text": [
      "len1: 1\n",
      "len2: 1\n",
      "hyposthesis: True\n"
     ]
    }
   ],
   "source": [
    "len1 = len(test_df.drop_duplicates(['patient_id']))\n",
    "len2 = len(test_df.drop_duplicates(['patient_id','site_id']))\n",
    "print(f'len1: {len1}')\n",
    "print(f'len2: {len2}')\n",
    "hypothesis = (len1  == len2)\n",
    "print(f'hyposthesis: {hypothesis}')\n",
    "hypotheses.append(hypothesis)"
   ]
  },
  {
   "cell_type": "markdown",
   "id": "ef13c917",
   "metadata": {
    "papermill": {
     "duration": 0.010984,
     "end_time": "2022-12-05T12:41:49.350764",
     "exception": false,
     "start_time": "2022-12-05T12:41:49.339780",
     "status": "completed"
    },
    "tags": []
   },
   "source": [
    "# Age is always the same for each patient."
   ]
  },
  {
   "cell_type": "code",
   "execution_count": 13,
   "id": "43b83ae1",
   "metadata": {
    "execution": {
     "iopub.execute_input": "2022-12-05T12:41:49.375713Z",
     "iopub.status.busy": "2022-12-05T12:41:49.375259Z",
     "iopub.status.idle": "2022-12-05T12:41:49.386486Z",
     "shell.execute_reply": "2022-12-05T12:41:49.384731Z"
    },
    "papermill": {
     "duration": 0.027324,
     "end_time": "2022-12-05T12:41:49.389255",
     "exception": false,
     "start_time": "2022-12-05T12:41:49.361931",
     "status": "completed"
    },
    "tags": []
   },
   "outputs": [
    {
     "name": "stdout",
     "output_type": "stream",
     "text": [
      "len1: 1\n",
      "len2: 1\n",
      "hyposthesis: True\n"
     ]
    }
   ],
   "source": [
    "len1 = len(test_df.drop_duplicates(['patient_id']))\n",
    "len2 = len(test_df.drop_duplicates(['patient_id','age']))\n",
    "print(f'len1: {len1}')\n",
    "print(f'len2: {len2}')\n",
    "hypothesis = (len1  == len2)\n",
    "print(f'hyposthesis: {hypothesis}')\n",
    "hypotheses.append(hypothesis)"
   ]
  },
  {
   "cell_type": "markdown",
   "id": "912cd9f7",
   "metadata": {
    "papermill": {
     "duration": 0.010596,
     "end_time": "2022-12-05T12:41:49.410871",
     "exception": false,
     "start_time": "2022-12-05T12:41:49.400275",
     "status": "completed"
    },
    "tags": []
   },
   "source": [
    "# There are no overlap of machine IDs between two sites in test dataset."
   ]
  },
  {
   "cell_type": "code",
   "execution_count": 14,
   "id": "1bb515c0",
   "metadata": {
    "execution": {
     "iopub.execute_input": "2022-12-05T12:41:49.436479Z",
     "iopub.status.busy": "2022-12-05T12:41:49.435954Z",
     "iopub.status.idle": "2022-12-05T12:41:49.447408Z",
     "shell.execute_reply": "2022-12-05T12:41:49.445948Z"
    },
    "papermill": {
     "duration": 0.02855,
     "end_time": "2022-12-05T12:41:49.450593",
     "exception": false,
     "start_time": "2022-12-05T12:41:49.422043",
     "status": "completed"
    },
    "tags": []
   },
   "outputs": [
    {
     "name": "stdout",
     "output_type": "stream",
     "text": [
      "len1: 1\n",
      "len2: 1\n",
      "hyposthesis: True\n"
     ]
    }
   ],
   "source": [
    "len1 = len(test_df.drop_duplicates(['machine_id']))\n",
    "len2 = len(test_df.drop_duplicates(['site_id','machine_id']))\n",
    "print(f'len1: {len1}')\n",
    "print(f'len2: {len2}')\n",
    "hypothesis = (len1  == len2)\n",
    "print(f'hyposthesis: {hypothesis}')\n",
    "hypotheses.append(hypothesis)"
   ]
  },
  {
   "cell_type": "markdown",
   "id": "6b29b799",
   "metadata": {
    "papermill": {
     "duration": 0.010481,
     "end_time": "2022-12-05T12:41:49.472304",
     "exception": false,
     "start_time": "2022-12-05T12:41:49.461823",
     "status": "completed"
    },
    "tags": []
   },
   "source": [
    "# Some patients underwent mammography with multiple machines."
   ]
  },
  {
   "cell_type": "code",
   "execution_count": 15,
   "id": "a0653768",
   "metadata": {
    "execution": {
     "iopub.execute_input": "2022-12-05T12:41:49.498341Z",
     "iopub.status.busy": "2022-12-05T12:41:49.497845Z",
     "iopub.status.idle": "2022-12-05T12:41:49.507668Z",
     "shell.execute_reply": "2022-12-05T12:41:49.506785Z"
    },
    "papermill": {
     "duration": 0.026739,
     "end_time": "2022-12-05T12:41:49.511291",
     "exception": false,
     "start_time": "2022-12-05T12:41:49.484552",
     "status": "completed"
    },
    "tags": []
   },
   "outputs": [
    {
     "name": "stdout",
     "output_type": "stream",
     "text": [
      "len1: 1\n",
      "len2: 1\n",
      "hyposthesis: False\n"
     ]
    }
   ],
   "source": [
    "len1 = len(test_df.drop_duplicates(['patient_id']))\n",
    "len2 = len(test_df.drop_duplicates(['patient_id','machine_id']))\n",
    "print(f'len1: {len1}')\n",
    "print(f'len2: {len2}')\n",
    "hypothesis = (len1  != len2)\n",
    "print(f'hyposthesis: {hypothesis}')\n",
    "hypotheses.append(hypothesis)"
   ]
  },
  {
   "cell_type": "markdown",
   "id": "8d7fe534",
   "metadata": {
    "papermill": {
     "duration": 0.01788,
     "end_time": "2022-12-05T12:41:49.542228",
     "exception": false,
     "start_time": "2022-12-05T12:41:49.524348",
     "status": "completed"
    },
    "tags": []
   },
   "source": [
    "This hypothesis is true for train set"
   ]
  },
  {
   "cell_type": "code",
   "execution_count": 16,
   "id": "2570159f",
   "metadata": {
    "execution": {
     "iopub.execute_input": "2022-12-05T12:41:49.572934Z",
     "iopub.status.busy": "2022-12-05T12:41:49.572414Z",
     "iopub.status.idle": "2022-12-05T12:41:49.607917Z",
     "shell.execute_reply": "2022-12-05T12:41:49.606606Z"
    },
    "papermill": {
     "duration": 0.053318,
     "end_time": "2022-12-05T12:41:49.611822",
     "exception": false,
     "start_time": "2022-12-05T12:41:49.558504",
     "status": "completed"
    },
    "tags": []
   },
   "outputs": [
    {
     "name": "stdout",
     "output_type": "stream",
     "text": [
      "len1: 11913\n",
      "len2: 11914\n",
      "hyposthesis: True\n"
     ]
    },
    {
     "data": {
      "text/html": [
       "<div>\n",
       "<style scoped>\n",
       "    .dataframe tbody tr th:only-of-type {\n",
       "        vertical-align: middle;\n",
       "    }\n",
       "\n",
       "    .dataframe tbody tr th {\n",
       "        vertical-align: top;\n",
       "    }\n",
       "\n",
       "    .dataframe thead th {\n",
       "        text-align: right;\n",
       "    }\n",
       "</style>\n",
       "<table border=\"1\" class=\"dataframe\">\n",
       "  <thead>\n",
       "    <tr style=\"text-align: right;\">\n",
       "      <th></th>\n",
       "      <th>site_id</th>\n",
       "      <th>patient_id</th>\n",
       "      <th>image_id</th>\n",
       "      <th>laterality</th>\n",
       "      <th>view</th>\n",
       "      <th>age</th>\n",
       "      <th>cancer</th>\n",
       "      <th>biopsy</th>\n",
       "      <th>invasive</th>\n",
       "      <th>BIRADS</th>\n",
       "      <th>implant</th>\n",
       "      <th>density</th>\n",
       "      <th>machine_id</th>\n",
       "      <th>difficult_negative_case</th>\n",
       "    </tr>\n",
       "  </thead>\n",
       "  <tbody>\n",
       "    <tr>\n",
       "      <th>11792</th>\n",
       "      <td>1</td>\n",
       "      <td>22637</td>\n",
       "      <td>347017785</td>\n",
       "      <td>L</td>\n",
       "      <td>MLO</td>\n",
       "      <td>65.0</td>\n",
       "      <td>0</td>\n",
       "      <td>0</td>\n",
       "      <td>0</td>\n",
       "      <td>NaN</td>\n",
       "      <td>0</td>\n",
       "      <td>A</td>\n",
       "      <td>93</td>\n",
       "      <td>False</td>\n",
       "    </tr>\n",
       "    <tr>\n",
       "      <th>11793</th>\n",
       "      <td>1</td>\n",
       "      <td>22637</td>\n",
       "      <td>1172178848</td>\n",
       "      <td>L</td>\n",
       "      <td>MLO</td>\n",
       "      <td>65.0</td>\n",
       "      <td>0</td>\n",
       "      <td>0</td>\n",
       "      <td>0</td>\n",
       "      <td>NaN</td>\n",
       "      <td>0</td>\n",
       "      <td>A</td>\n",
       "      <td>93</td>\n",
       "      <td>False</td>\n",
       "    </tr>\n",
       "    <tr>\n",
       "      <th>11794</th>\n",
       "      <td>1</td>\n",
       "      <td>22637</td>\n",
       "      <td>1993684471</td>\n",
       "      <td>L</td>\n",
       "      <td>CC</td>\n",
       "      <td>65.0</td>\n",
       "      <td>0</td>\n",
       "      <td>0</td>\n",
       "      <td>0</td>\n",
       "      <td>NaN</td>\n",
       "      <td>0</td>\n",
       "      <td>A</td>\n",
       "      <td>93</td>\n",
       "      <td>False</td>\n",
       "    </tr>\n",
       "    <tr>\n",
       "      <th>11795</th>\n",
       "      <td>1</td>\n",
       "      <td>22637</td>\n",
       "      <td>286197565</td>\n",
       "      <td>R</td>\n",
       "      <td>MLO</td>\n",
       "      <td>65.0</td>\n",
       "      <td>0</td>\n",
       "      <td>0</td>\n",
       "      <td>0</td>\n",
       "      <td>0.0</td>\n",
       "      <td>0</td>\n",
       "      <td>A</td>\n",
       "      <td>93</td>\n",
       "      <td>True</td>\n",
       "    </tr>\n",
       "    <tr>\n",
       "      <th>11796</th>\n",
       "      <td>1</td>\n",
       "      <td>22637</td>\n",
       "      <td>425671587</td>\n",
       "      <td>R</td>\n",
       "      <td>MLO</td>\n",
       "      <td>65.0</td>\n",
       "      <td>0</td>\n",
       "      <td>0</td>\n",
       "      <td>0</td>\n",
       "      <td>0.0</td>\n",
       "      <td>0</td>\n",
       "      <td>A</td>\n",
       "      <td>93</td>\n",
       "      <td>True</td>\n",
       "    </tr>\n",
       "    <tr>\n",
       "      <th>11797</th>\n",
       "      <td>1</td>\n",
       "      <td>22637</td>\n",
       "      <td>1344937704</td>\n",
       "      <td>R</td>\n",
       "      <td>CC</td>\n",
       "      <td>65.0</td>\n",
       "      <td>0</td>\n",
       "      <td>0</td>\n",
       "      <td>0</td>\n",
       "      <td>0.0</td>\n",
       "      <td>0</td>\n",
       "      <td>A</td>\n",
       "      <td>190</td>\n",
       "      <td>True</td>\n",
       "    </tr>\n",
       "    <tr>\n",
       "      <th>11798</th>\n",
       "      <td>1</td>\n",
       "      <td>22637</td>\n",
       "      <td>1574740592</td>\n",
       "      <td>R</td>\n",
       "      <td>CC</td>\n",
       "      <td>65.0</td>\n",
       "      <td>0</td>\n",
       "      <td>0</td>\n",
       "      <td>0</td>\n",
       "      <td>0.0</td>\n",
       "      <td>0</td>\n",
       "      <td>A</td>\n",
       "      <td>93</td>\n",
       "      <td>True</td>\n",
       "    </tr>\n",
       "  </tbody>\n",
       "</table>\n",
       "</div>"
      ],
      "text/plain": [
       "       site_id  patient_id    image_id laterality view   age  cancer  biopsy  \\\n",
       "11792        1       22637   347017785          L  MLO  65.0       0       0   \n",
       "11793        1       22637  1172178848          L  MLO  65.0       0       0   \n",
       "11794        1       22637  1993684471          L   CC  65.0       0       0   \n",
       "11795        1       22637   286197565          R  MLO  65.0       0       0   \n",
       "11796        1       22637   425671587          R  MLO  65.0       0       0   \n",
       "11797        1       22637  1344937704          R   CC  65.0       0       0   \n",
       "11798        1       22637  1574740592          R   CC  65.0       0       0   \n",
       "\n",
       "       invasive  BIRADS  implant density  machine_id  difficult_negative_case  \n",
       "11792         0     NaN        0       A          93                    False  \n",
       "11793         0     NaN        0       A          93                    False  \n",
       "11794         0     NaN        0       A          93                    False  \n",
       "11795         0     0.0        0       A          93                     True  \n",
       "11796         0     0.0        0       A          93                     True  \n",
       "11797         0     0.0        0       A         190                     True  \n",
       "11798         0     0.0        0       A          93                     True  "
      ]
     },
     "metadata": {},
     "output_type": "display_data"
    }
   ],
   "source": [
    "len1 = len(train_df.drop_duplicates(['patient_id']))\n",
    "len2 = len(train_df.drop_duplicates(['patient_id','machine_id']))\n",
    "print(f'len1: {len1}')\n",
    "print(f'len2: {len2}')\n",
    "hypothesis = (len1  != len2)\n",
    "print(f'hyposthesis: {hypothesis}')\n",
    "display(train_df[train_df.patient_id == 22637])"
   ]
  },
  {
   "cell_type": "markdown",
   "id": "52ea6687",
   "metadata": {
    "papermill": {
     "duration": 0.011577,
     "end_time": "2022-12-05T12:41:49.636041",
     "exception": false,
     "start_time": "2022-12-05T12:41:49.624464",
     "status": "completed"
    },
    "tags": []
   },
   "source": [
    "# No. of images in site ID 1 >  No. of images in site ID 2\n",
    "Suggested by @yujiariyasu"
   ]
  },
  {
   "cell_type": "code",
   "execution_count": 17,
   "id": "d623874d",
   "metadata": {
    "execution": {
     "iopub.execute_input": "2022-12-05T12:41:49.665586Z",
     "iopub.status.busy": "2022-12-05T12:41:49.664656Z",
     "iopub.status.idle": "2022-12-05T12:41:49.675265Z",
     "shell.execute_reply": "2022-12-05T12:41:49.673150Z"
    },
    "papermill": {
     "duration": 0.030629,
     "end_time": "2022-12-05T12:41:49.678751",
     "exception": false,
     "start_time": "2022-12-05T12:41:49.648122",
     "status": "completed"
    },
    "tags": []
   },
   "outputs": [
    {
     "name": "stdout",
     "output_type": "stream",
     "text": [
      "mean site ID train: 1.460406536760136\n",
      "mean site ID test: 2.0\n",
      "hyposthesis: False\n"
     ]
    }
   ],
   "source": [
    "mean_site_id_train = train_df.site_id.mean()\n",
    "mean_site_id_test = test_df.site_id.mean()\n",
    "print(f'mean site ID train: {mean_site_id_train}')\n",
    "print(f'mean site ID test: {mean_site_id_test}')\n",
    "hypothesis = (mean_site_id_test < 1.5)\n",
    "print(f'hyposthesis: {hypothesis}')\n",
    "hypotheses.append(hypothesis)"
   ]
  },
  {
   "cell_type": "markdown",
   "id": "12c2ba28",
   "metadata": {
    "papermill": {
     "duration": 0.011362,
     "end_time": "2022-12-05T12:41:49.702315",
     "exception": false,
     "start_time": "2022-12-05T12:41:49.690953",
     "status": "completed"
    },
    "tags": []
   },
   "source": [
    "# All patients have CC and MLO images for both sides"
   ]
  },
  {
   "cell_type": "code",
   "execution_count": 18,
   "id": "2e6bf901",
   "metadata": {
    "execution": {
     "iopub.execute_input": "2022-12-05T12:41:49.727459Z",
     "iopub.status.busy": "2022-12-05T12:41:49.726932Z",
     "iopub.status.idle": "2022-12-05T12:41:49.741979Z",
     "shell.execute_reply": "2022-12-05T12:41:49.740509Z"
    },
    "papermill": {
     "duration": 0.030945,
     "end_time": "2022-12-05T12:41:49.744614",
     "exception": false,
     "start_time": "2022-12-05T12:41:49.713669",
     "status": "completed"
    },
    "tags": []
   },
   "outputs": [
    {
     "name": "stdout",
     "output_type": "stream",
     "text": [
      "len1: 1\n",
      "len2: 1\n",
      "len3: 1\n",
      "len4: 1\n",
      "len5: 1\n",
      "hyposthesis: True\n"
     ]
    }
   ],
   "source": [
    "len1 = len(test_df.patient_id.unique())\n",
    "len2 = len(test_df[(test_df.laterality == 'L')&(test_df.view == 'CC')].patient_id.unique())\n",
    "len3 = len(test_df[(test_df.laterality == 'L')&(test_df.view == 'MLO')].patient_id.unique())\n",
    "len4 = len(test_df[(test_df.laterality == 'R')&(test_df.view == 'CC')].patient_id.unique())\n",
    "len5 = len(test_df[(test_df.laterality == 'R')&(test_df.view == 'MLO')].patient_id.unique())\n",
    "print(f'len1: {len1}')\n",
    "print(f'len2: {len2}')\n",
    "print(f'len3: {len3}')\n",
    "print(f'len4: {len4}')\n",
    "print(f'len5: {len5}')\n",
    "hypothesis = len1 == len2 == len3 == len4 == len5\n",
    "print(f'hyposthesis: {hypothesis}')\n",
    "hypotheses.append(hypothesis)"
   ]
  },
  {
   "cell_type": "markdown",
   "id": "4c599375",
   "metadata": {
    "papermill": {
     "duration": 0.010937,
     "end_time": "2022-12-05T12:41:49.767431",
     "exception": false,
     "start_time": "2022-12-05T12:41:49.756494",
     "status": "completed"
    },
    "tags": []
   },
   "source": [
    "# More than 40% of images are from machine ID 49 (43% for train dataset)\n",
    "Suggested by @kaggleqrdl"
   ]
  },
  {
   "cell_type": "code",
   "execution_count": 19,
   "id": "43aa2636",
   "metadata": {
    "execution": {
     "iopub.execute_input": "2022-12-05T12:41:49.794193Z",
     "iopub.status.busy": "2022-12-05T12:41:49.792499Z",
     "iopub.status.idle": "2022-12-05T12:41:49.806440Z",
     "shell.execute_reply": "2022-12-05T12:41:49.804921Z"
    },
    "papermill": {
     "duration": 0.030092,
     "end_time": "2022-12-05T12:41:49.809459",
     "exception": false,
     "start_time": "2022-12-05T12:41:49.779367",
     "status": "completed"
    },
    "tags": []
   },
   "outputs": [
    {
     "name": "stdout",
     "output_type": "stream",
     "text": [
      "test_machine_49_count: 0\n",
      "test_len: 4\n",
      "test_machine_49_ratio: 0.0\n",
      "hyposthesis: False\n"
     ]
    }
   ],
   "source": [
    "test_machine_49_count = len(test_df.query(\"machine_id == 49\"))\n",
    "test_len = len(test_df)\n",
    "test_machine_49_ratio = test_machine_49_count/test_len\n",
    "print(f'test_machine_49_count: {test_machine_49_count}')\n",
    "print(f'test_len: {test_len}')\n",
    "print(f'test_machine_49_ratio: {test_machine_49_ratio}')\n",
    "hypothesis = test_machine_49_ratio > 0.40\n",
    "print(f'hyposthesis: {hypothesis}')\n",
    "hypotheses.append(hypothesis)"
   ]
  },
  {
   "cell_type": "code",
   "execution_count": 20,
   "id": "89e51cd0",
   "metadata": {
    "execution": {
     "iopub.execute_input": "2022-12-05T12:41:49.833934Z",
     "iopub.status.busy": "2022-12-05T12:41:49.833307Z",
     "iopub.status.idle": "2022-12-05T12:41:49.846571Z",
     "shell.execute_reply": "2022-12-05T12:41:49.845165Z"
    },
    "papermill": {
     "duration": 0.028983,
     "end_time": "2022-12-05T12:41:49.849530",
     "exception": false,
     "start_time": "2022-12-05T12:41:49.820547",
     "status": "completed"
    },
    "tags": []
   },
   "outputs": [
    {
     "name": "stdout",
     "output_type": "stream",
     "text": [
      "train_machine_49_count: 23529\n",
      "train_len: 54706\n",
      "train_machine_49_ratio: 0.43009907505575257\n"
     ]
    }
   ],
   "source": [
    "train_machine_49_count = len(train_df.query(\"machine_id == 49\"))\n",
    "train_len = len(train_df)\n",
    "train_machine_49_ratio = train_machine_49_count/train_len\n",
    "print(f'train_machine_49_count: {train_machine_49_count}')\n",
    "print(f'train_len: {train_len}')\n",
    "print(f'train_machine_49_ratio: {train_machine_49_ratio}')"
   ]
  },
  {
   "cell_type": "markdown",
   "id": "a1be7a2b",
   "metadata": {
    "papermill": {
     "duration": 0.011493,
     "end_time": "2022-12-05T12:41:49.873167",
     "exception": false,
     "start_time": "2022-12-05T12:41:49.861674",
     "status": "completed"
    },
    "tags": []
   },
   "source": [
    "# Mean age of patients is between 56-61 (58.6 for train set), and patients in site 1 are younger than those in site 2.\n",
    "Suggested by @kaggleqrdl"
   ]
  },
  {
   "cell_type": "code",
   "execution_count": 21,
   "id": "7588fefb",
   "metadata": {
    "execution": {
     "iopub.execute_input": "2022-12-05T12:41:49.899414Z",
     "iopub.status.busy": "2022-12-05T12:41:49.898194Z",
     "iopub.status.idle": "2022-12-05T12:41:49.938230Z",
     "shell.execute_reply": "2022-12-05T12:41:49.936063Z"
    },
    "papermill": {
     "duration": 0.056432,
     "end_time": "2022-12-05T12:41:49.941747",
     "exception": false,
     "start_time": "2022-12-05T12:41:49.885315",
     "status": "completed"
    },
    "tags": []
   },
   "outputs": [
    {
     "name": "stdout",
     "output_type": "stream",
     "text": [
      "mean_age_train: 58.63821923561529\n",
      "mean_age_site1_train: 57.34509466437177\n",
      "mean_age_site2_train: 59.87087776866284\n",
      "mean_age_test: 81.0\n",
      "mean_age_site1_test: nan\n",
      "mean_age_site2_test: 81.0\n",
      "hyposthesis: False\n"
     ]
    }
   ],
   "source": [
    "mean_age_train = train_df.drop_duplicates('patient_id').age.mean()\n",
    "mean_age_site1_train = train_df[train_df.site_id == 1].drop_duplicates('patient_id').age.mean()\n",
    "mean_age_site2_train = train_df[train_df.site_id == 2].drop_duplicates('patient_id').age.mean()\n",
    "mean_age_test = test_df.drop_duplicates('patient_id').age.mean()\n",
    "mean_age_site1_test = test_df[test_df.site_id == 1].drop_duplicates('patient_id').age.mean()\n",
    "mean_age_site2_test = test_df[test_df.site_id == 2].drop_duplicates('patient_id').age.mean()\n",
    "print(f'mean_age_train: {mean_age_train}')\n",
    "print(f'mean_age_site1_train: {mean_age_site1_train}')\n",
    "print(f'mean_age_site2_train: {mean_age_site2_train}')\n",
    "print(f'mean_age_test: {mean_age_test}')\n",
    "print(f'mean_age_site1_test: {mean_age_site1_test}')\n",
    "print(f'mean_age_site2_test: {mean_age_site2_test}')\n",
    "hypothesis = (mean_age_test > 56)&(61 > mean_age_test)&(mean_age_site1_test < mean_age_site2_test)\n",
    "print(f'hyposthesis: {hypothesis}')\n",
    "hypotheses.append(hypothesis)"
   ]
  },
  {
   "cell_type": "markdown",
   "id": "2e85c9ca",
   "metadata": {
    "papermill": {
     "duration": 0.010759,
     "end_time": "2022-12-05T12:41:49.964041",
     "exception": false,
     "start_time": "2022-12-05T12:41:49.953282",
     "status": "completed"
    },
    "tags": []
   },
   "source": [
    "# 1-2% of patients use implants (1.4% for train set).\n",
    "Suggested by @kaggleqrdl"
   ]
  },
  {
   "cell_type": "code",
   "execution_count": 22,
   "id": "d2d2f8f5",
   "metadata": {
    "execution": {
     "iopub.execute_input": "2022-12-05T12:41:49.988506Z",
     "iopub.status.busy": "2022-12-05T12:41:49.988015Z",
     "iopub.status.idle": "2022-12-05T12:41:50.020240Z",
     "shell.execute_reply": "2022-12-05T12:41:50.018745Z"
    },
    "papermill": {
     "duration": 0.048963,
     "end_time": "2022-12-05T12:41:50.024085",
     "exception": false,
     "start_time": "2022-12-05T12:41:49.975122",
     "status": "completed"
    },
    "tags": []
   },
   "outputs": [
    {
     "name": "stdout",
     "output_type": "stream",
     "text": [
      "mean_implant_train: 0.014354066985645933\n",
      "mean_implant_test: 0.0\n",
      "hyposthesis: False\n"
     ]
    }
   ],
   "source": [
    "mean_implant_train = train_df.drop_duplicates(['patient_id','laterality']).implant.mean()\n",
    "mean_implant_test = test_df.drop_duplicates(['patient_id','laterality']).implant.mean()\n",
    "print(f'mean_implant_train: {mean_implant_train}')\n",
    "print(f'mean_implant_test: {mean_implant_test}')\n",
    "hypothesis = (mean_implant_test > 0.01)&(0.02 > mean_implant_test)\n",
    "print(f'hyposthesis: {hypothesis}')\n",
    "hypotheses.append(hypothesis)"
   ]
  },
  {
   "cell_type": "markdown",
   "id": "fd71f607",
   "metadata": {
    "papermill": {
     "duration": 0.012407,
     "end_time": "2022-12-05T12:41:50.050447",
     "exception": false,
     "start_time": "2022-12-05T12:41:50.038040",
     "status": "completed"
    },
    "tags": []
   },
   "source": [
    "# If the submission of this notebook is successful, all hypotheses are TRUE"
   ]
  },
  {
   "cell_type": "code",
   "execution_count": 23,
   "id": "eb4b5915",
   "metadata": {
    "execution": {
     "iopub.execute_input": "2022-12-05T12:41:50.075480Z",
     "iopub.status.busy": "2022-12-05T12:41:50.075035Z",
     "iopub.status.idle": "2022-12-05T12:41:50.081438Z",
     "shell.execute_reply": "2022-12-05T12:41:50.079988Z"
    },
    "papermill": {
     "duration": 0.022914,
     "end_time": "2022-12-05T12:41:50.085198",
     "exception": false,
     "start_time": "2022-12-05T12:41:50.062284",
     "status": "completed"
    },
    "tags": []
   },
   "outputs": [
    {
     "name": "stdout",
     "output_type": "stream",
     "text": [
      "[True, True, True, True, False, True, True, True, True, True, False, False, True, False, False, False]\n",
      "False\n"
     ]
    }
   ],
   "source": [
    "print(hypotheses)\n",
    "print(all(hypotheses))"
   ]
  },
  {
   "cell_type": "code",
   "execution_count": 24,
   "id": "1093cffc",
   "metadata": {
    "execution": {
     "iopub.execute_input": "2022-12-05T12:41:50.113800Z",
     "iopub.status.busy": "2022-12-05T12:41:50.112262Z",
     "iopub.status.idle": "2022-12-05T12:41:50.132198Z",
     "shell.execute_reply": "2022-12-05T12:41:50.130812Z"
    },
    "papermill": {
     "duration": 0.03568,
     "end_time": "2022-12-05T12:41:50.134609",
     "exception": false,
     "start_time": "2022-12-05T12:41:50.098929",
     "status": "completed"
    },
    "tags": []
   },
   "outputs": [
    {
     "data": {
      "text/html": [
       "<div>\n",
       "<style scoped>\n",
       "    .dataframe tbody tr th:only-of-type {\n",
       "        vertical-align: middle;\n",
       "    }\n",
       "\n",
       "    .dataframe tbody tr th {\n",
       "        vertical-align: top;\n",
       "    }\n",
       "\n",
       "    .dataframe thead th {\n",
       "        text-align: right;\n",
       "    }\n",
       "</style>\n",
       "<table border=\"1\" class=\"dataframe\">\n",
       "  <thead>\n",
       "    <tr style=\"text-align: right;\">\n",
       "      <th></th>\n",
       "      <th>prediction_id</th>\n",
       "      <th>cancer</th>\n",
       "    </tr>\n",
       "  </thead>\n",
       "  <tbody>\n",
       "    <tr>\n",
       "      <th>0</th>\n",
       "      <td>10008_L</td>\n",
       "      <td>0.876897</td>\n",
       "    </tr>\n",
       "    <tr>\n",
       "      <th>1</th>\n",
       "      <td>10008_L</td>\n",
       "      <td>0.599107</td>\n",
       "    </tr>\n",
       "    <tr>\n",
       "      <th>2</th>\n",
       "      <td>10008_R</td>\n",
       "      <td>0.745730</td>\n",
       "    </tr>\n",
       "    <tr>\n",
       "      <th>3</th>\n",
       "      <td>10008_R</td>\n",
       "      <td>0.793492</td>\n",
       "    </tr>\n",
       "  </tbody>\n",
       "</table>\n",
       "</div>"
      ],
      "text/plain": [
       "  prediction_id    cancer\n",
       "0       10008_L  0.876897\n",
       "1       10008_L  0.599107\n",
       "2       10008_R  0.745730\n",
       "3       10008_R  0.793492"
      ]
     },
     "metadata": {},
     "output_type": "display_data"
    }
   ],
   "source": [
    "if all(hypotheses):\n",
    "    submission = pd.DataFrame(data={'prediction_id': test_df['prediction_id'].unique(), 'cancer': np.random.random(len(test_df['prediction_id'].unique()))})\n",
    "else:\n",
    "    submission = pd.DataFrame(data={'prediction_id': test_df['prediction_id'], 'cancer': np.random.random(len(test_df))})\n",
    "submission.to_csv('submission.csv', index=False)\n",
    "display(submission.head())"
   ]
  }
 ],
 "metadata": {
  "kernelspec": {
   "display_name": "Python 3",
   "language": "python",
   "name": "python3"
  },
  "language_info": {
   "codemirror_mode": {
    "name": "ipython",
    "version": 3
   },
   "file_extension": ".py",
   "mimetype": "text/x-python",
   "name": "python",
   "nbconvert_exporter": "python",
   "pygments_lexer": "ipython3",
   "version": "3.7.12"
  },
  "papermill": {
   "default_parameters": {},
   "duration": 12.111521,
   "end_time": "2022-12-05T12:41:51.072027",
   "environment_variables": {},
   "exception": null,
   "input_path": "__notebook__.ipynb",
   "output_path": "__notebook__.ipynb",
   "parameters": {},
   "start_time": "2022-12-05T12:41:38.960506",
   "version": "2.3.4"
  }
 },
 "nbformat": 4,
 "nbformat_minor": 5
}
